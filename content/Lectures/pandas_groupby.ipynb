{
 "cells": [
  {
   "cell_type": "markdown",
   "metadata": {},
   "source": [
    "# Pandas: Groupby\n",
    "\n",
    "`groupby` is an amazingly powerful function in pandas. But it is also complicated to use and understand.\n",
    "The point of this lesson is to make you feel confident in using `groupby` and its cousins, `resample` and `rolling`. \n",
    "\n",
    "These notes are loosely based on the [Pandas GroupBy Documentation](http://pandas.pydata.org/pandas-docs/stable/groupby.html).\n",
    "\n",
    "Imports:"
   ]
  },
  {
   "cell_type": "code",
   "execution_count": 46,
   "metadata": {},
   "outputs": [],
   "source": [
    "import numpy as np\n",
    "from matplotlib import pyplot as plt\n",
    "plt.rcParams['figure.figsize'] = (12,7)\n",
    "%matplotlib inline\n",
    "import pandas as pd"
   ]
  },
  {
   "cell_type": "markdown",
   "metadata": {},
   "source": [
    "First we read the Earthquake data from our previous assignment:"
   ]
  },
  {
   "cell_type": "code",
   "execution_count": 34,
   "metadata": {},
   "outputs": [
    {
     "data": {
      "text/html": [
       "<div>\n",
       "<style scoped>\n",
       "    .dataframe tbody tr th:only-of-type {\n",
       "        vertical-align: middle;\n",
       "    }\n",
       "\n",
       "    .dataframe tbody tr th {\n",
       "        vertical-align: top;\n",
       "    }\n",
       "\n",
       "    .dataframe thead th {\n",
       "        text-align: right;\n",
       "    }\n",
       "</style>\n",
       "<table border=\"1\" class=\"dataframe\">\n",
       "  <thead>\n",
       "    <tr style=\"text-align: right;\">\n",
       "      <th></th>\n",
       "      <th>time</th>\n",
       "      <th>latitude</th>\n",
       "      <th>longitude</th>\n",
       "      <th>depth</th>\n",
       "      <th>mag</th>\n",
       "      <th>magType</th>\n",
       "      <th>nst</th>\n",
       "      <th>gap</th>\n",
       "      <th>dmin</th>\n",
       "      <th>rms</th>\n",
       "      <th>net</th>\n",
       "      <th>updated</th>\n",
       "      <th>place</th>\n",
       "      <th>type</th>\n",
       "      <th>country</th>\n",
       "    </tr>\n",
       "    <tr>\n",
       "      <th>id</th>\n",
       "      <th></th>\n",
       "      <th></th>\n",
       "      <th></th>\n",
       "      <th></th>\n",
       "      <th></th>\n",
       "      <th></th>\n",
       "      <th></th>\n",
       "      <th></th>\n",
       "      <th></th>\n",
       "      <th></th>\n",
       "      <th></th>\n",
       "      <th></th>\n",
       "      <th></th>\n",
       "      <th></th>\n",
       "      <th></th>\n",
       "    </tr>\n",
       "  </thead>\n",
       "  <tbody>\n",
       "    <tr>\n",
       "      <th>usc000mqlp</th>\n",
       "      <td>2014-01-31 23:08:03.660</td>\n",
       "      <td>-4.9758</td>\n",
       "      <td>153.9466</td>\n",
       "      <td>110.18</td>\n",
       "      <td>4.2</td>\n",
       "      <td>mb</td>\n",
       "      <td>NaN</td>\n",
       "      <td>98.0</td>\n",
       "      <td>1.940</td>\n",
       "      <td>0.61</td>\n",
       "      <td>us</td>\n",
       "      <td>2014-04-08T01:43:19.000Z</td>\n",
       "      <td>115km ESE of Taron, Papua New Guinea</td>\n",
       "      <td>earthquake</td>\n",
       "      <td>Papua New Guinea</td>\n",
       "    </tr>\n",
       "    <tr>\n",
       "      <th>usc000mqln</th>\n",
       "      <td>2014-01-31 22:54:32.970</td>\n",
       "      <td>-28.1775</td>\n",
       "      <td>-177.9058</td>\n",
       "      <td>95.84</td>\n",
       "      <td>4.3</td>\n",
       "      <td>mb</td>\n",
       "      <td>NaN</td>\n",
       "      <td>104.0</td>\n",
       "      <td>1.063</td>\n",
       "      <td>1.14</td>\n",
       "      <td>us</td>\n",
       "      <td>2014-04-08T01:43:19.000Z</td>\n",
       "      <td>120km N of Raoul Island, New Zealand</td>\n",
       "      <td>earthquake</td>\n",
       "      <td>New Zealand</td>\n",
       "    </tr>\n",
       "    <tr>\n",
       "      <th>usc000mqls</th>\n",
       "      <td>2014-01-31 22:49:49.740</td>\n",
       "      <td>-23.1192</td>\n",
       "      <td>179.1174</td>\n",
       "      <td>528.34</td>\n",
       "      <td>4.4</td>\n",
       "      <td>mb</td>\n",
       "      <td>NaN</td>\n",
       "      <td>80.0</td>\n",
       "      <td>5.439</td>\n",
       "      <td>0.95</td>\n",
       "      <td>us</td>\n",
       "      <td>2014-04-08T01:43:19.000Z</td>\n",
       "      <td>South of the Fiji Islands</td>\n",
       "      <td>earthquake</td>\n",
       "      <td>South of the Fiji Islands</td>\n",
       "    </tr>\n",
       "    <tr>\n",
       "      <th>usc000mf1x</th>\n",
       "      <td>2014-01-31 22:19:44.330</td>\n",
       "      <td>51.1569</td>\n",
       "      <td>-178.0910</td>\n",
       "      <td>37.50</td>\n",
       "      <td>4.2</td>\n",
       "      <td>mb</td>\n",
       "      <td>NaN</td>\n",
       "      <td>NaN</td>\n",
       "      <td>NaN</td>\n",
       "      <td>0.83</td>\n",
       "      <td>us</td>\n",
       "      <td>2014-04-08T01:43:19.000Z</td>\n",
       "      <td>72km E of Amatignak Island, Alaska</td>\n",
       "      <td>earthquake</td>\n",
       "      <td>Alaska</td>\n",
       "    </tr>\n",
       "    <tr>\n",
       "      <th>usc000mqlm</th>\n",
       "      <td>2014-01-31 21:56:44.320</td>\n",
       "      <td>-4.8800</td>\n",
       "      <td>153.8434</td>\n",
       "      <td>112.66</td>\n",
       "      <td>4.3</td>\n",
       "      <td>mb</td>\n",
       "      <td>NaN</td>\n",
       "      <td>199.0</td>\n",
       "      <td>1.808</td>\n",
       "      <td>0.79</td>\n",
       "      <td>us</td>\n",
       "      <td>2014-04-08T01:43:19.000Z</td>\n",
       "      <td>100km ESE of Taron, Papua New Guinea</td>\n",
       "      <td>earthquake</td>\n",
       "      <td>Papua New Guinea</td>\n",
       "    </tr>\n",
       "  </tbody>\n",
       "</table>\n",
       "</div>"
      ],
      "text/plain": [
       "                              time  latitude  longitude   depth  mag magType  \\\n",
       "id                                                                             \n",
       "usc000mqlp 2014-01-31 23:08:03.660   -4.9758   153.9466  110.18  4.2      mb   \n",
       "usc000mqln 2014-01-31 22:54:32.970  -28.1775  -177.9058   95.84  4.3      mb   \n",
       "usc000mqls 2014-01-31 22:49:49.740  -23.1192   179.1174  528.34  4.4      mb   \n",
       "usc000mf1x 2014-01-31 22:19:44.330   51.1569  -178.0910   37.50  4.2      mb   \n",
       "usc000mqlm 2014-01-31 21:56:44.320   -4.8800   153.8434  112.66  4.3      mb   \n",
       "\n",
       "            nst    gap   dmin   rms net                   updated  \\\n",
       "id                                                                  \n",
       "usc000mqlp  NaN   98.0  1.940  0.61  us  2014-04-08T01:43:19.000Z   \n",
       "usc000mqln  NaN  104.0  1.063  1.14  us  2014-04-08T01:43:19.000Z   \n",
       "usc000mqls  NaN   80.0  5.439  0.95  us  2014-04-08T01:43:19.000Z   \n",
       "usc000mf1x  NaN    NaN    NaN  0.83  us  2014-04-08T01:43:19.000Z   \n",
       "usc000mqlm  NaN  199.0  1.808  0.79  us  2014-04-08T01:43:19.000Z   \n",
       "\n",
       "                                           place        type  \\\n",
       "id                                                             \n",
       "usc000mqlp  115km ESE of Taron, Papua New Guinea  earthquake   \n",
       "usc000mqln  120km N of Raoul Island, New Zealand  earthquake   \n",
       "usc000mqls             South of the Fiji Islands  earthquake   \n",
       "usc000mf1x    72km E of Amatignak Island, Alaska  earthquake   \n",
       "usc000mqlm  100km ESE of Taron, Papua New Guinea  earthquake   \n",
       "\n",
       "                              country  \n",
       "id                                     \n",
       "usc000mqlp           Papua New Guinea  \n",
       "usc000mqln                New Zealand  \n",
       "usc000mqls  South of the Fiji Islands  \n",
       "usc000mf1x                     Alaska  \n",
       "usc000mqlm           Papua New Guinea  "
      ]
     },
     "execution_count": 34,
     "metadata": {},
     "output_type": "execute_result"
    }
   ],
   "source": [
    "df = pd.read_csv('http://www.ldeo.columbia.edu/~rpa/usgs_earthquakes_2014.csv', parse_dates=['time'], index_col='id')\n",
    "df['country'] = df.place.str.split(', ').str[-1]\n",
    "df_small = df[df.mag<4]\n",
    "df = df[df.mag>4]\n",
    "df.head()"
   ]
  },
  {
   "cell_type": "markdown",
   "metadata": {},
   "source": [
    "## An Example\n",
    "\n",
    "This is an example of a \"one-liner\" that you can accomplish with groupby."
   ]
  },
  {
   "cell_type": "code",
   "execution_count": 35,
   "metadata": {},
   "outputs": [
    {
     "data": {
      "text/plain": [
       "<matplotlib.axes._subplots.AxesSubplot at 0x7f2e614440f0>"
      ]
     },
     "execution_count": 35,
     "metadata": {},
     "output_type": "execute_result"
    },
    {
     "data": {
      "image/png": "[encoded data removed]",
      "text/plain": [
       "<Figure size 864x432 with 1 Axes>"
      ]
     },
     "metadata": {},
     "output_type": "display_data"
    }
   ],
   "source": [
    "df.groupby('country').mag.count().nlargest(20).plot(kind='bar', figsize=(12,6))"
   ]
  },
  {
   "cell_type": "code",
   "execution_count": 36,
   "metadata": {},
   "outputs": [
    {
     "data": {
      "text/plain": [
       "<matplotlib.axes._subplots.AxesSubplot at 0x7f2e6a4cddd8>"
      ]
     },
     "execution_count": 36,
     "metadata": {},
     "output_type": "execute_result"
    },
    {
     "data": {
      "image/png": "[encoded data removed]",
      "text/plain": [
       "<Figure size 864x432 with 1 Axes>"
      ]
     },
     "metadata": {},
     "output_type": "display_data"
    }
   ],
   "source": [
    "df_small.groupby('country').mag.count().nlargest(20).plot(kind='bar', figsize=(12,6))"
   ]
  },
  {
   "cell_type": "code",
   "execution_count": null,
   "metadata": {},
   "outputs": [],
   "source": []
  },
  {
   "cell_type": "markdown",
   "metadata": {},
   "source": [
    "## What Happened?\n",
    "\n",
    "Let's break apart this operation a bit. The workflow with `groubpy` can be divided into three general steps:\n",
    "\n",
    "1. **Split**: Partition the data into different groups based on some criterion.\n",
    "1. **Apply**: Do some caclulation within each group. Different types of \"apply\" steps might be\n",
    "  1. *Aggregation*: Get the mean or max within the group.\n",
    "  1. *Transformation*: Normalize all the values within a group\n",
    "  1. *Filtration*: Eliminate some groups based on a criterion.\n",
    "1. **Combine**: Put the results back together into a single object.\n",
    "\n",
    "### The `groupby` method\n",
    "\n",
    "Both `Series` and `DataFrame` objects have a groupby method. It accepts a variety of arguments, but the simplest way to think about it is that you pass another series, whose unique values are used to split the original object into different groups."
   ]
  },
  {
   "cell_type": "code",
   "execution_count": 37,
   "metadata": {},
   "outputs": [
    {
     "data": {
      "text/plain": [
       "<pandas.core.groupby.groupby.DataFrameGroupBy object at 0x7f2e668a7978>"
      ]
     },
     "execution_count": 37,
     "metadata": {},
     "output_type": "execute_result"
    }
   ],
   "source": [
    "df.groupby(df.country)"
   ]
  },
  {
   "cell_type": "markdown",
   "metadata": {},
   "source": [
    "There is a shortcut for doing this with dataframes: you just pass the column name:"
   ]
  },
  {
   "cell_type": "code",
   "execution_count": 38,
   "metadata": {},
   "outputs": [
    {
     "data": {
      "text/plain": [
       "<pandas.core.groupby.groupby.DataFrameGroupBy object at 0x7f2e698ac400>"
      ]
     },
     "execution_count": 38,
     "metadata": {},
     "output_type": "execute_result"
    }
   ],
   "source": [
    "df.groupby('country')"
   ]
  },
  {
   "cell_type": "markdown",
   "metadata": {},
   "source": [
    "### The `GroubBy` object\n",
    "\n",
    "When we call, `groupby` we get back a `GroupBy` object:"
   ]
  },
  {
   "cell_type": "code",
   "execution_count": 39,
   "metadata": {},
   "outputs": [
    {
     "data": {
      "text/plain": [
       "<pandas.core.groupby.groupby.DataFrameGroupBy object at 0x7f2e668cc128>"
      ]
     },
     "execution_count": 39,
     "metadata": {},
     "output_type": "execute_result"
    }
   ],
   "source": [
    "gb = df.groupby('country')\n",
    "gb"
   ]
  },
  {
   "cell_type": "markdown",
   "metadata": {},
   "source": [
    "The length tells us how many groups were found:"
   ]
  },
  {
   "cell_type": "code",
   "execution_count": 40,
   "metadata": {},
   "outputs": [
    {
     "data": {
      "text/plain": [
       "262"
      ]
     },
     "execution_count": 40,
     "metadata": {},
     "output_type": "execute_result"
    }
   ],
   "source": [
    "len(gb)"
   ]
  },
  {
   "cell_type": "markdown",
   "metadata": {},
   "source": [
    "All of the groups are available as a dictionary via the `.groups` attribute:"
   ]
  },
  {
   "cell_type": "code",
   "execution_count": 41,
   "metadata": {},
   "outputs": [
    {
     "data": {
      "text/plain": [
       "262"
      ]
     },
     "execution_count": 41,
     "metadata": {},
     "output_type": "execute_result"
    }
   ],
   "source": [
    "groups = gb.groups\n",
    "len(groups)"
   ]
  },
  {
   "cell_type": "code",
   "execution_count": 42,
   "metadata": {},
   "outputs": [
    {
     "data": {
      "text/plain": [
       "['',\n",
       " 'Afghanistan',\n",
       " 'Alaska',\n",
       " 'Albania',\n",
       " 'Algeria',\n",
       " 'American Samoa',\n",
       " 'Angola',\n",
       " 'Anguilla',\n",
       " 'Antarctica',\n",
       " 'Argentina',\n",
       " 'Arizona',\n",
       " 'Aruba',\n",
       " 'Ascension Island region',\n",
       " 'Australia',\n",
       " 'Azerbaijan',\n",
       " 'Azores Islands region',\n",
       " 'Azores-Cape St. Vincent Ridge',\n",
       " 'Balleny Islands region',\n",
       " 'Banda Sea',\n",
       " 'Bangladesh',\n",
       " 'Barbados',\n",
       " 'Barbuda',\n",
       " 'Bay of Bengal',\n",
       " 'Bermuda',\n",
       " 'Bhutan',\n",
       " 'Bolivia',\n",
       " 'Bosnia and Herzegovina',\n",
       " 'Bouvet Island',\n",
       " 'Bouvet Island region',\n",
       " 'Brazil',\n",
       " 'British Indian Ocean Territory',\n",
       " 'British Virgin Islands',\n",
       " 'Burma',\n",
       " 'Burundi',\n",
       " 'California',\n",
       " 'Canada',\n",
       " 'Cape Verde',\n",
       " 'Carlsberg Ridge',\n",
       " 'Cayman Islands',\n",
       " 'Celebes Sea',\n",
       " 'Central East Pacific Rise',\n",
       " 'Central Mid-Atlantic Ridge',\n",
       " 'Chagos Archipelago region',\n",
       " 'Chile',\n",
       " 'China',\n",
       " 'Christmas Island',\n",
       " 'Colombia',\n",
       " 'Comoros',\n",
       " 'Cook Islands',\n",
       " 'Costa Rica',\n",
       " 'Crozet Islands region',\n",
       " 'Cuba',\n",
       " 'Cyprus',\n",
       " 'Davis Strait',\n",
       " 'Democratic Republic of the Congo',\n",
       " 'Djibouti',\n",
       " 'Dominica',\n",
       " 'Dominican Republic',\n",
       " 'Drake Passage',\n",
       " 'East Timor',\n",
       " 'East of Severnaya Zemlya',\n",
       " 'East of the Kuril Islands',\n",
       " 'East of the North Island of New Zealand',\n",
       " 'East of the Philippine Islands',\n",
       " 'East of the South Sandwich Islands',\n",
       " 'Easter Island region',\n",
       " 'Eastern Greenland',\n",
       " 'Ecuador',\n",
       " 'Ecuador region',\n",
       " 'Egypt',\n",
       " 'El Salvador',\n",
       " 'Eritrea',\n",
       " 'Ethiopia',\n",
       " 'Falkland Islands region',\n",
       " 'Federated States of Micronesia region',\n",
       " 'Fiji',\n",
       " 'Fiji region',\n",
       " 'France',\n",
       " 'French Polynesia',\n",
       " 'French Southern Territories',\n",
       " 'Galapagos Triple Junction region',\n",
       " 'Georgia',\n",
       " 'Greece',\n",
       " 'Greenland',\n",
       " 'Greenland Sea',\n",
       " 'Guadeloupe',\n",
       " 'Guam',\n",
       " 'Guatemala',\n",
       " 'Gulf of Alaska',\n",
       " 'Haiti',\n",
       " 'Hawaii',\n",
       " 'Honduras',\n",
       " 'Iceland',\n",
       " 'Idaho',\n",
       " 'India',\n",
       " 'India region',\n",
       " 'Indian Ocean Triple Junction',\n",
       " 'Indonesia',\n",
       " 'Iran',\n",
       " 'Iraq',\n",
       " 'Italy',\n",
       " 'Japan',\n",
       " 'Japan region',\n",
       " 'Jordan',\n",
       " 'Kansas',\n",
       " 'Kazakhstan',\n",
       " 'Kermadec Islands region',\n",
       " 'Kosovo',\n",
       " 'Kuril Islands',\n",
       " 'Kyrgyzstan',\n",
       " 'Labrador Sea',\n",
       " 'Laptev Sea',\n",
       " 'Macedonia',\n",
       " 'Macquarie Island region',\n",
       " 'Malawi',\n",
       " 'Malaysia',\n",
       " 'Mariana Islands region',\n",
       " 'Martinique',\n",
       " 'Mauritania',\n",
       " 'Mauritius',\n",
       " 'Mauritius - Reunion region',\n",
       " 'Mexico',\n",
       " 'Micronesia',\n",
       " 'Mid-Indian Ridge',\n",
       " 'Molucca Sea',\n",
       " 'Mongolia',\n",
       " 'Montana',\n",
       " 'Montenegro',\n",
       " 'Morocco',\n",
       " 'Mozambique',\n",
       " 'Mozambique Channel',\n",
       " 'Nepal',\n",
       " 'New Caledonia',\n",
       " 'New Mexico',\n",
       " 'New Zealand',\n",
       " 'Nicaragua',\n",
       " 'Niue',\n",
       " 'North Atlantic Ocean',\n",
       " 'North Indian Ocean',\n",
       " 'North Korea',\n",
       " 'North of Ascension Island',\n",
       " 'North of Franz Josef Land',\n",
       " 'North of New Zealand',\n",
       " 'North of Severnaya Zemlya',\n",
       " 'North of Svalbard',\n",
       " 'Northern East Pacific Rise',\n",
       " 'Northern Mariana Islands',\n",
       " 'Northern Mid-Atlantic Ridge',\n",
       " 'Northwest of Australia',\n",
       " 'Norway',\n",
       " 'Norwegian Sea',\n",
       " 'Off the coast of Central America',\n",
       " 'Off the coast of Ecuador',\n",
       " 'Off the coast of Oregon',\n",
       " 'Off the east coast of the North Island of New Zealand',\n",
       " 'Off the south coast of Australia',\n",
       " 'Off the west coast of northern Sumatra',\n",
       " 'Oklahoma',\n",
       " 'Oman',\n",
       " 'Oregon',\n",
       " 'Owen Fracture Zone region',\n",
       " 'Pacific-Antarctic Ridge',\n",
       " 'Pakistan',\n",
       " 'Palau',\n",
       " 'Palau region',\n",
       " 'Panama',\n",
       " 'Papua New Guinea',\n",
       " 'Peru',\n",
       " 'Peru-Ecuador border region',\n",
       " 'Philippine Islands region',\n",
       " 'Philippines',\n",
       " 'Poland',\n",
       " 'Portugal',\n",
       " 'Portugal region',\n",
       " 'Prince Edward Islands',\n",
       " 'Prince Edward Islands region',\n",
       " 'Puerto Rico',\n",
       " 'Republic of the Congo',\n",
       " 'Reykjanes Ridge',\n",
       " 'Romania',\n",
       " 'Russia',\n",
       " 'Russia region',\n",
       " 'Saint Helena',\n",
       " 'Saint Lucia',\n",
       " 'Saint Vincent and the Grenadines',\n",
       " 'Samoa',\n",
       " 'Santa Cruz Islands region',\n",
       " 'Saudi Arabia',\n",
       " 'Scotia Sea',\n",
       " 'Sea of Okhotsk',\n",
       " 'Serbia',\n",
       " 'Slovenia',\n",
       " 'Socotra region',\n",
       " 'Solomon Islands',\n",
       " 'Somalia',\n",
       " 'South Africa',\n",
       " 'South Atlantic Ocean',\n",
       " 'South Carolina',\n",
       " 'South Georgia Island region',\n",
       " 'South Georgia and the South Sandwich Islands',\n",
       " 'South Indian Ocean',\n",
       " 'South Napa Earthquake',\n",
       " 'South Sandwich Islands',\n",
       " 'South Sandwich Islands region',\n",
       " 'South Shetland Islands',\n",
       " 'South Sudan',\n",
       " 'South of Africa',\n",
       " 'South of Australia',\n",
       " 'South of Panama',\n",
       " 'South of Tasmania',\n",
       " 'South of Tonga',\n",
       " 'South of the Fiji Islands',\n",
       " 'South of the Kermadec Islands',\n",
       " 'South of the Mariana Islands',\n",
       " 'Southeast Indian Ridge',\n",
       " 'Southeast central Pacific Ocean',\n",
       " 'Southeast of Easter Island',\n",
       " 'Southern East Pacific Rise',\n",
       " 'Southern Mid-Atlantic Ridge',\n",
       " 'Southern Pacific Ocean',\n",
       " 'Southwest Indian Ridge',\n",
       " 'Southwest of Africa',\n",
       " 'Southwest of Australia',\n",
       " 'Southwestern Atlantic Ocean',\n",
       " 'Spain',\n",
       " 'Sudan',\n",
       " 'Svalbard and Jan Mayen',\n",
       " 'Sweden',\n",
       " 'Syria',\n",
       " 'Taiwan',\n",
       " 'Tajikistan',\n",
       " 'Tanzania',\n",
       " 'Thailand',\n",
       " 'Tonga',\n",
       " 'Tonga region',\n",
       " 'Trinidad and Tobago',\n",
       " 'Tristan da Cunha region',\n",
       " 'Turkey',\n",
       " 'Turkmenistan',\n",
       " 'Uganda',\n",
       " 'Ukraine',\n",
       " 'United Kingdom',\n",
       " 'Utah',\n",
       " 'Uzbekistan',\n",
       " 'Vanuatu',\n",
       " 'Vanuatu region',\n",
       " 'Venezuela',\n",
       " 'Vietnam',\n",
       " 'Wallis and Futuna',\n",
       " 'West Chile Rise',\n",
       " 'West of Australia',\n",
       " 'West of Macquarie Island',\n",
       " 'West of Vancouver Island',\n",
       " 'West of the Galapagos Islands',\n",
       " 'Western Australia',\n",
       " 'Western Indian-Antarctic Ridge',\n",
       " 'Yemen',\n",
       " 'Zambia',\n",
       " 'north of Ascension Island',\n",
       " 'northern Mid-Atlantic Ridge',\n",
       " 'south of Panama',\n",
       " 'western Xizang']"
      ]
     },
     "execution_count": 42,
     "metadata": {},
     "output_type": "execute_result"
    }
   ],
   "source": [
    "list(groups.keys())"
   ]
  },
  {
   "cell_type": "markdown",
   "metadata": {},
   "source": [
    "### Iterating and selecting groups\n",
    "\n",
    "You can loop through the groups if you want."
   ]
  },
  {
   "cell_type": "code",
   "execution_count": 30,
   "metadata": {},
   "outputs": [
    {
     "data": {
      "text/html": [
       "<div>\n",
       "<style scoped>\n",
       "    .dataframe tbody tr th:only-of-type {\n",
       "        vertical-align: middle;\n",
       "    }\n",
       "\n",
       "    .dataframe tbody tr th {\n",
       "        vertical-align: top;\n",
       "    }\n",
       "\n",
       "    .dataframe thead th {\n",
       "        text-align: right;\n",
       "    }\n",
       "</style>\n",
       "<table border=\"1\" class=\"dataframe\">\n",
       "  <thead>\n",
       "    <tr style=\"text-align: right;\">\n",
       "      <th></th>\n",
       "      <th>time</th>\n",
       "      <th>latitude</th>\n",
       "      <th>longitude</th>\n",
       "      <th>depth</th>\n",
       "      <th>mag</th>\n",
       "      <th>magType</th>\n",
       "      <th>nst</th>\n",
       "      <th>gap</th>\n",
       "      <th>dmin</th>\n",
       "      <th>rms</th>\n",
       "      <th>net</th>\n",
       "      <th>updated</th>\n",
       "      <th>place</th>\n",
       "      <th>type</th>\n",
       "      <th>country</th>\n",
       "    </tr>\n",
       "    <tr>\n",
       "      <th>id</th>\n",
       "      <th></th>\n",
       "      <th></th>\n",
       "      <th></th>\n",
       "      <th></th>\n",
       "      <th></th>\n",
       "      <th></th>\n",
       "      <th></th>\n",
       "      <th></th>\n",
       "      <th></th>\n",
       "      <th></th>\n",
       "      <th></th>\n",
       "      <th></th>\n",
       "      <th></th>\n",
       "      <th></th>\n",
       "      <th></th>\n",
       "    </tr>\n",
       "  </thead>\n",
       "  <tbody>\n",
       "    <tr>\n",
       "      <th>usc000mkc8</th>\n",
       "      <td>2014-01-25 16:10:38.760</td>\n",
       "      <td>-55.2925</td>\n",
       "      <td>-27.0527</td>\n",
       "      <td>10.00</td>\n",
       "      <td>4.1</td>\n",
       "      <td>mb</td>\n",
       "      <td>NaN</td>\n",
       "      <td>97.0</td>\n",
       "      <td>5.553</td>\n",
       "      <td>0.35</td>\n",
       "      <td>us</td>\n",
       "      <td>2014-03-27T18:15:40.000Z</td>\n",
       "      <td>156km N of Visokoi Island,</td>\n",
       "      <td>earthquake</td>\n",
       "      <td></td>\n",
       "    </tr>\n",
       "    <tr>\n",
       "      <th>usc000mkc7</th>\n",
       "      <td>2014-01-25 09:43:23.230</td>\n",
       "      <td>-55.9434</td>\n",
       "      <td>-27.6772</td>\n",
       "      <td>103.48</td>\n",
       "      <td>4.3</td>\n",
       "      <td>mb</td>\n",
       "      <td>NaN</td>\n",
       "      <td>87.0</td>\n",
       "      <td>5.324</td>\n",
       "      <td>0.62</td>\n",
       "      <td>us</td>\n",
       "      <td>2014-03-27T18:15:40.000Z</td>\n",
       "      <td>89km NNW of Visokoi Island,</td>\n",
       "      <td>earthquake</td>\n",
       "      <td></td>\n",
       "    </tr>\n",
       "    <tr>\n",
       "      <th>usc000mh0c</th>\n",
       "      <td>2014-01-19 15:42:45.510</td>\n",
       "      <td>-56.9656</td>\n",
       "      <td>-26.7803</td>\n",
       "      <td>120.25</td>\n",
       "      <td>4.6</td>\n",
       "      <td>mb</td>\n",
       "      <td>NaN</td>\n",
       "      <td>151.0</td>\n",
       "      <td>6.120</td>\n",
       "      <td>0.39</td>\n",
       "      <td>us</td>\n",
       "      <td>2014-03-22T00:05:23.000Z</td>\n",
       "      <td>39km SE of Visokoi Island,</td>\n",
       "      <td>earthquake</td>\n",
       "      <td></td>\n",
       "    </tr>\n",
       "    <tr>\n",
       "      <th>usb000m7f2</th>\n",
       "      <td>2014-01-10 13:50:38.730</td>\n",
       "      <td>-56.0110</td>\n",
       "      <td>-26.1186</td>\n",
       "      <td>10.00</td>\n",
       "      <td>4.2</td>\n",
       "      <td>mb</td>\n",
       "      <td>NaN</td>\n",
       "      <td>106.0</td>\n",
       "      <td>6.192</td>\n",
       "      <td>0.71</td>\n",
       "      <td>us</td>\n",
       "      <td>2014-03-15T03:38:58.000Z</td>\n",
       "      <td>101km NE of Visokoi Island,</td>\n",
       "      <td>earthquake</td>\n",
       "      <td></td>\n",
       "    </tr>\n",
       "    <tr>\n",
       "      <th>usb000m78v</th>\n",
       "      <td>2014-01-07 06:51:09.160</td>\n",
       "      <td>-56.9651</td>\n",
       "      <td>-26.6696</td>\n",
       "      <td>124.37</td>\n",
       "      <td>4.3</td>\n",
       "      <td>mb</td>\n",
       "      <td>NaN</td>\n",
       "      <td>109.0</td>\n",
       "      <td>6.176</td>\n",
       "      <td>0.59</td>\n",
       "      <td>us</td>\n",
       "      <td>2014-03-07T00:26:01.000Z</td>\n",
       "      <td>43km SE of Visokoi Island,</td>\n",
       "      <td>earthquake</td>\n",
       "      <td></td>\n",
       "    </tr>\n",
       "  </tbody>\n",
       "</table>\n",
       "</div>"
      ],
      "text/plain": [
       "                              time  latitude  longitude   depth  mag magType  \\\n",
       "id                                                                             \n",
       "usc000mkc8 2014-01-25 16:10:38.760  -55.2925   -27.0527   10.00  4.1      mb   \n",
       "usc000mkc7 2014-01-25 09:43:23.230  -55.9434   -27.6772  103.48  4.3      mb   \n",
       "usc000mh0c 2014-01-19 15:42:45.510  -56.9656   -26.7803  120.25  4.6      mb   \n",
       "usb000m7f2 2014-01-10 13:50:38.730  -56.0110   -26.1186   10.00  4.2      mb   \n",
       "usb000m78v 2014-01-07 06:51:09.160  -56.9651   -26.6696  124.37  4.3      mb   \n",
       "\n",
       "            nst    gap   dmin   rms net                   updated  \\\n",
       "id                                                                  \n",
       "usc000mkc8  NaN   97.0  5.553  0.35  us  2014-03-27T18:15:40.000Z   \n",
       "usc000mkc7  NaN   87.0  5.324  0.62  us  2014-03-27T18:15:40.000Z   \n",
       "usc000mh0c  NaN  151.0  6.120  0.39  us  2014-03-22T00:05:23.000Z   \n",
       "usb000m7f2  NaN  106.0  6.192  0.71  us  2014-03-15T03:38:58.000Z   \n",
       "usb000m78v  NaN  109.0  6.176  0.59  us  2014-03-07T00:26:01.000Z   \n",
       "\n",
       "                                   place        type country  \n",
       "id                                                            \n",
       "usc000mkc8   156km N of Visokoi Island,   earthquake          \n",
       "usc000mkc7  89km NNW of Visokoi Island,   earthquake          \n",
       "usc000mh0c   39km SE of Visokoi Island,   earthquake          \n",
       "usb000m7f2  101km NE of Visokoi Island,   earthquake          \n",
       "usb000m78v   43km SE of Visokoi Island,   earthquake          "
      ]
     },
     "metadata": {},
     "output_type": "display_data"
    },
    {
     "name": "stdout",
     "output_type": "stream",
     "text": [
      "The key is \" \"\n"
     ]
    }
   ],
   "source": [
    "for key, group in gb:\n",
    "    display(group.head())\n",
    "    print(f'The key is \"{key}\"')\n",
    "    break"
   ]
  },
  {
   "cell_type": "markdown",
   "metadata": {},
   "source": [
    "And you can get a specific group by key."
   ]
  },
  {
   "cell_type": "code",
   "execution_count": 44,
   "metadata": {},
   "outputs": [
    {
     "data": {
      "text/html": [
       "<div>\n",
       "<style scoped>\n",
       "    .dataframe tbody tr th:only-of-type {\n",
       "        vertical-align: middle;\n",
       "    }\n",
       "\n",
       "    .dataframe tbody tr th {\n",
       "        vertical-align: top;\n",
       "    }\n",
       "\n",
       "    .dataframe thead th {\n",
       "        text-align: right;\n",
       "    }\n",
       "</style>\n",
       "<table border=\"1\" class=\"dataframe\">\n",
       "  <thead>\n",
       "    <tr style=\"text-align: right;\">\n",
       "      <th></th>\n",
       "      <th>time</th>\n",
       "      <th>latitude</th>\n",
       "      <th>longitude</th>\n",
       "      <th>depth</th>\n",
       "      <th>mag</th>\n",
       "      <th>magType</th>\n",
       "      <th>nst</th>\n",
       "      <th>gap</th>\n",
       "      <th>dmin</th>\n",
       "      <th>rms</th>\n",
       "      <th>net</th>\n",
       "      <th>updated</th>\n",
       "      <th>place</th>\n",
       "      <th>type</th>\n",
       "      <th>country</th>\n",
       "    </tr>\n",
       "    <tr>\n",
       "      <th>id</th>\n",
       "      <th></th>\n",
       "      <th></th>\n",
       "      <th></th>\n",
       "      <th></th>\n",
       "      <th></th>\n",
       "      <th></th>\n",
       "      <th></th>\n",
       "      <th></th>\n",
       "      <th></th>\n",
       "      <th></th>\n",
       "      <th></th>\n",
       "      <th></th>\n",
       "      <th></th>\n",
       "      <th></th>\n",
       "      <th></th>\n",
       "    </tr>\n",
       "  </thead>\n",
       "  <tbody>\n",
       "    <tr>\n",
       "      <th>usc000mqlq</th>\n",
       "      <td>2014-01-31 20:00:16.000</td>\n",
       "      <td>-33.6550</td>\n",
       "      <td>-71.9810</td>\n",
       "      <td>25.10</td>\n",
       "      <td>4.5</td>\n",
       "      <td>mb</td>\n",
       "      <td>NaN</td>\n",
       "      <td>NaN</td>\n",
       "      <td>NaN</td>\n",
       "      <td>1.63</td>\n",
       "      <td>us</td>\n",
       "      <td>2014-04-08T01:43:19.000Z</td>\n",
       "      <td>34km WSW of San Antonio, Chile</td>\n",
       "      <td>earthquake</td>\n",
       "      <td>Chile</td>\n",
       "    </tr>\n",
       "    <tr>\n",
       "      <th>usc000mql6</th>\n",
       "      <td>2014-01-31 13:48:23.000</td>\n",
       "      <td>-18.0690</td>\n",
       "      <td>-69.6630</td>\n",
       "      <td>149.10</td>\n",
       "      <td>4.3</td>\n",
       "      <td>mb</td>\n",
       "      <td>NaN</td>\n",
       "      <td>NaN</td>\n",
       "      <td>NaN</td>\n",
       "      <td>1.77</td>\n",
       "      <td>us</td>\n",
       "      <td>2014-04-08T01:43:18.000Z</td>\n",
       "      <td>17km NW of Putre, Chile</td>\n",
       "      <td>earthquake</td>\n",
       "      <td>Chile</td>\n",
       "    </tr>\n",
       "    <tr>\n",
       "      <th>usc000mqk8</th>\n",
       "      <td>2014-01-30 14:20:56.560</td>\n",
       "      <td>-19.6118</td>\n",
       "      <td>-70.9487</td>\n",
       "      <td>15.16</td>\n",
       "      <td>4.1</td>\n",
       "      <td>mb</td>\n",
       "      <td>NaN</td>\n",
       "      <td>159.0</td>\n",
       "      <td>1.227</td>\n",
       "      <td>1.34</td>\n",
       "      <td>us</td>\n",
       "      <td>2014-04-08T01:43:17.000Z</td>\n",
       "      <td>107km NW of Iquique, Chile</td>\n",
       "      <td>earthquake</td>\n",
       "      <td>Chile</td>\n",
       "    </tr>\n",
       "    <tr>\n",
       "      <th>usc000mdi2</th>\n",
       "      <td>2014-01-30 10:02:14.000</td>\n",
       "      <td>-32.1180</td>\n",
       "      <td>-71.7860</td>\n",
       "      <td>25.70</td>\n",
       "      <td>4.5</td>\n",
       "      <td>mwr</td>\n",
       "      <td>NaN</td>\n",
       "      <td>NaN</td>\n",
       "      <td>NaN</td>\n",
       "      <td>1.10</td>\n",
       "      <td>us</td>\n",
       "      <td>2015-01-30T21:28:21.955Z</td>\n",
       "      <td>64km NW of La Ligua, Chile</td>\n",
       "      <td>earthquake</td>\n",
       "      <td>Chile</td>\n",
       "    </tr>\n",
       "    <tr>\n",
       "      <th>usc000mqeh</th>\n",
       "      <td>2014-01-29 18:58:23.000</td>\n",
       "      <td>-18.6610</td>\n",
       "      <td>-69.6440</td>\n",
       "      <td>123.10</td>\n",
       "      <td>4.8</td>\n",
       "      <td>mb</td>\n",
       "      <td>NaN</td>\n",
       "      <td>NaN</td>\n",
       "      <td>NaN</td>\n",
       "      <td>1.52</td>\n",
       "      <td>us</td>\n",
       "      <td>2014-04-08T01:43:16.000Z</td>\n",
       "      <td>51km S of Putre, Chile</td>\n",
       "      <td>earthquake</td>\n",
       "      <td>Chile</td>\n",
       "    </tr>\n",
       "  </tbody>\n",
       "</table>\n",
       "</div>"
      ],
      "text/plain": [
       "                              time  latitude  longitude   depth  mag magType  \\\n",
       "id                                                                             \n",
       "usc000mqlq 2014-01-31 20:00:16.000  -33.6550   -71.9810   25.10  4.5      mb   \n",
       "usc000mql6 2014-01-31 13:48:23.000  -18.0690   -69.6630  149.10  4.3      mb   \n",
       "usc000mqk8 2014-01-30 14:20:56.560  -19.6118   -70.9487   15.16  4.1      mb   \n",
       "usc000mdi2 2014-01-30 10:02:14.000  -32.1180   -71.7860   25.70  4.5     mwr   \n",
       "usc000mqeh 2014-01-29 18:58:23.000  -18.6610   -69.6440  123.10  4.8      mb   \n",
       "\n",
       "            nst    gap   dmin   rms net                   updated  \\\n",
       "id                                                                  \n",
       "usc000mqlq  NaN    NaN    NaN  1.63  us  2014-04-08T01:43:19.000Z   \n",
       "usc000mql6  NaN    NaN    NaN  1.77  us  2014-04-08T01:43:18.000Z   \n",
       "usc000mqk8  NaN  159.0  1.227  1.34  us  2014-04-08T01:43:17.000Z   \n",
       "usc000mdi2  NaN    NaN    NaN  1.10  us  2015-01-30T21:28:21.955Z   \n",
       "usc000mqeh  NaN    NaN    NaN  1.52  us  2014-04-08T01:43:16.000Z   \n",
       "\n",
       "                                     place        type country  \n",
       "id                                                              \n",
       "usc000mqlq  34km WSW of San Antonio, Chile  earthquake   Chile  \n",
       "usc000mql6         17km NW of Putre, Chile  earthquake   Chile  \n",
       "usc000mqk8      107km NW of Iquique, Chile  earthquake   Chile  \n",
       "usc000mdi2      64km NW of La Ligua, Chile  earthquake   Chile  \n",
       "usc000mqeh          51km S of Putre, Chile  earthquake   Chile  "
      ]
     },
     "execution_count": 44,
     "metadata": {},
     "output_type": "execute_result"
    }
   ],
   "source": [
    "gb.get_group('Chile').head()"
   ]
  },
  {
   "cell_type": "markdown",
   "metadata": {},
   "source": [
    "## Aggregation\n",
    "\n",
    "Now that we know how to create a `GroupBy` object, let's learn how to do aggregation on it.\n",
    "\n",
    "One way us to use the `.aggregate` method, which accepts another function as its argument. The result is automatically combined into a new dataframe with the group key as the index."
   ]
  },
  {
   "cell_type": "code",
   "execution_count": 48,
   "metadata": {},
   "outputs": [
    {
     "data": {
      "text/html": [
       "<div>\n",
       "<style scoped>\n",
       "    .dataframe tbody tr th:only-of-type {\n",
       "        vertical-align: middle;\n",
       "    }\n",
       "\n",
       "    .dataframe tbody tr th {\n",
       "        vertical-align: top;\n",
       "    }\n",
       "\n",
       "    .dataframe thead th {\n",
       "        text-align: right;\n",
       "    }\n",
       "</style>\n",
       "<table border=\"1\" class=\"dataframe\">\n",
       "  <thead>\n",
       "    <tr style=\"text-align: right;\">\n",
       "      <th></th>\n",
       "      <th>time</th>\n",
       "      <th>latitude</th>\n",
       "      <th>longitude</th>\n",
       "      <th>depth</th>\n",
       "      <th>mag</th>\n",
       "      <th>magType</th>\n",
       "      <th>nst</th>\n",
       "      <th>gap</th>\n",
       "      <th>dmin</th>\n",
       "      <th>rms</th>\n",
       "      <th>net</th>\n",
       "      <th>updated</th>\n",
       "      <th>place</th>\n",
       "      <th>type</th>\n",
       "    </tr>\n",
       "    <tr>\n",
       "      <th>country</th>\n",
       "      <th></th>\n",
       "      <th></th>\n",
       "      <th></th>\n",
       "      <th></th>\n",
       "      <th></th>\n",
       "      <th></th>\n",
       "      <th></th>\n",
       "      <th></th>\n",
       "      <th></th>\n",
       "      <th></th>\n",
       "      <th></th>\n",
       "      <th></th>\n",
       "      <th></th>\n",
       "      <th></th>\n",
       "    </tr>\n",
       "  </thead>\n",
       "  <tbody>\n",
       "    <tr>\n",
       "      <th></th>\n",
       "      <td>2014-12-31 14:49:19.200</td>\n",
       "      <td>-37.5219</td>\n",
       "      <td>78.9418</td>\n",
       "      <td>248.18</td>\n",
       "      <td>6.9</td>\n",
       "      <td>mww</td>\n",
       "      <td>NaN</td>\n",
       "      <td>195.0</td>\n",
       "      <td>28.762</td>\n",
       "      <td>1.47</td>\n",
       "      <td>us</td>\n",
       "      <td>2015-03-17T02:38:27.040Z</td>\n",
       "      <td>99km NW of Visokoi Island,</td>\n",
       "      <td>earthquake</td>\n",
       "    </tr>\n",
       "    <tr>\n",
       "      <th>Afghanistan</th>\n",
       "      <td>2014-12-27 06:37:50.010</td>\n",
       "      <td>37.0112</td>\n",
       "      <td>71.6062</td>\n",
       "      <td>248.39</td>\n",
       "      <td>5.6</td>\n",
       "      <td>mww</td>\n",
       "      <td>NaN</td>\n",
       "      <td>172.0</td>\n",
       "      <td>3.505</td>\n",
       "      <td>1.55</td>\n",
       "      <td>us</td>\n",
       "      <td>2015-06-22T20:12:10.712Z</td>\n",
       "      <td>8km SE of Ashkasham, Afghanistan</td>\n",
       "      <td>earthquake</td>\n",
       "    </tr>\n",
       "    <tr>\n",
       "      <th>Alaska</th>\n",
       "      <td>2014-12-30 21:22:21.580</td>\n",
       "      <td>67.9858</td>\n",
       "      <td>179.9288</td>\n",
       "      <td>266.61</td>\n",
       "      <td>7.9</td>\n",
       "      <td>mww</td>\n",
       "      <td>152.0</td>\n",
       "      <td>338.0</td>\n",
       "      <td>7.712</td>\n",
       "      <td>2.15</td>\n",
       "      <td>us</td>\n",
       "      <td>2015-05-30T05:34:08.822Z</td>\n",
       "      <td>9km WSW of Little Sitkin Island, Alaska</td>\n",
       "      <td>earthquake</td>\n",
       "    </tr>\n",
       "    <tr>\n",
       "      <th>Albania</th>\n",
       "      <td>2014-05-20 04:43:25.500</td>\n",
       "      <td>41.5297</td>\n",
       "      <td>20.2804</td>\n",
       "      <td>28.26</td>\n",
       "      <td>5.0</td>\n",
       "      <td>mwr</td>\n",
       "      <td>NaN</td>\n",
       "      <td>69.0</td>\n",
       "      <td>1.299</td>\n",
       "      <td>1.34</td>\n",
       "      <td>us</td>\n",
       "      <td>2015-01-30T15:28:03.533Z</td>\n",
       "      <td>6km NE of Durres, Albania</td>\n",
       "      <td>earthquake</td>\n",
       "    </tr>\n",
       "    <tr>\n",
       "      <th>Algeria</th>\n",
       "      <td>2014-12-26 17:55:18.140</td>\n",
       "      <td>36.9391</td>\n",
       "      <td>5.6063</td>\n",
       "      <td>21.40</td>\n",
       "      <td>5.5</td>\n",
       "      <td>mww</td>\n",
       "      <td>NaN</td>\n",
       "      <td>174.0</td>\n",
       "      <td>3.250</td>\n",
       "      <td>1.45</td>\n",
       "      <td>us</td>\n",
       "      <td>2015-03-17T02:37:18.040Z</td>\n",
       "      <td>5km SSW of Bougara, Algeria</td>\n",
       "      <td>earthquake</td>\n",
       "    </tr>\n",
       "  </tbody>\n",
       "</table>\n",
       "</div>"
      ],
      "text/plain": [
       "                               time  latitude  longitude   depth  mag magType  \\\n",
       "country                                                                         \n",
       "            2014-12-31 14:49:19.200  -37.5219    78.9418  248.18  6.9     mww   \n",
       "Afghanistan 2014-12-27 06:37:50.010   37.0112    71.6062  248.39  5.6     mww   \n",
       "Alaska      2014-12-30 21:22:21.580   67.9858   179.9288  266.61  7.9     mww   \n",
       "Albania     2014-05-20 04:43:25.500   41.5297    20.2804   28.26  5.0     mwr   \n",
       "Algeria     2014-12-26 17:55:18.140   36.9391     5.6063   21.40  5.5     mww   \n",
       "\n",
       "               nst    gap    dmin   rms net                   updated  \\\n",
       "country                                                                 \n",
       "               NaN  195.0  28.762  1.47  us  2015-03-17T02:38:27.040Z   \n",
       "Afghanistan    NaN  172.0   3.505  1.55  us  2015-06-22T20:12:10.712Z   \n",
       "Alaska       152.0  338.0   7.712  2.15  us  2015-05-30T05:34:08.822Z   \n",
       "Albania        NaN   69.0   1.299  1.34  us  2015-01-30T15:28:03.533Z   \n",
       "Algeria        NaN  174.0   3.250  1.45  us  2015-03-17T02:37:18.040Z   \n",
       "\n",
       "                                               place        type  \n",
       "country                                                           \n",
       "                         99km NW of Visokoi Island,   earthquake  \n",
       "Afghanistan         8km SE of Ashkasham, Afghanistan  earthquake  \n",
       "Alaska       9km WSW of Little Sitkin Island, Alaska  earthquake  \n",
       "Albania                    6km NE of Durres, Albania  earthquake  \n",
       "Algeria                  5km SSW of Bougara, Algeria  earthquake  "
      ]
     },
     "execution_count": 48,
     "metadata": {},
     "output_type": "execute_result"
    }
   ],
   "source": [
    "gb.aggregate(np.max).head()"
   ]
  },
  {
   "cell_type": "markdown",
   "metadata": {},
   "source": [
    "By default, the operation is applied to every column. That's usually not what we want. We can use both `.` or `[]` syntax to select a specific column to operate on. Then we get back a series."
   ]
  },
  {
   "cell_type": "code",
   "execution_count": 50,
   "metadata": {},
   "outputs": [
    {
     "data": {
      "text/plain": [
       "country\n",
       "               6.9\n",
       "Afghanistan    5.6\n",
       "Alaska         7.9\n",
       "Albania        5.0\n",
       "Algeria        5.5\n",
       "Name: mag, dtype: float64"
      ]
     },
     "execution_count": 50,
     "metadata": {},
     "output_type": "execute_result"
    }
   ],
   "source": [
    "gb.mag.aggregate(np.max).head()"
   ]
  },
  {
   "cell_type": "code",
   "execution_count": 51,
   "metadata": {},
   "outputs": [
    {
     "data": {
      "text/plain": [
       "country\n",
       "Chile                         8.2\n",
       "Alaska                        7.9\n",
       "Solomon Islands               7.6\n",
       "Papua New Guinea              7.5\n",
       "El Salvador                   7.3\n",
       "Mexico                        7.2\n",
       "Fiji                          7.1\n",
       "Indonesia                     7.1\n",
       "Southern East Pacific Rise    7.0\n",
       "                              6.9\n",
       "Name: mag, dtype: float64"
      ]
     },
     "execution_count": 51,
     "metadata": {},
     "output_type": "execute_result"
    }
   ],
   "source": [
    "gb.mag.aggregate(np.max).nlargest(10)"
   ]
  },
  {
   "cell_type": "markdown",
   "metadata": {},
   "source": [
    "There are shortcuts for common aggregation functions:"
   ]
  },
  {
   "cell_type": "code",
   "execution_count": 53,
   "metadata": {},
   "outputs": [
    {
     "data": {
      "text/plain": [
       "country\n",
       "Chile                         8.2\n",
       "Alaska                        7.9\n",
       "Solomon Islands               7.6\n",
       "Papua New Guinea              7.5\n",
       "El Salvador                   7.3\n",
       "Mexico                        7.2\n",
       "Fiji                          7.1\n",
       "Indonesia                     7.1\n",
       "Southern East Pacific Rise    7.0\n",
       "                              6.9\n",
       "Name: mag, dtype: float64"
      ]
     },
     "execution_count": 53,
     "metadata": {},
     "output_type": "execute_result"
    }
   ],
   "source": [
    "gb.mag.max().nlargest(10)"
   ]
  },
  {
   "cell_type": "code",
   "execution_count": 57,
   "metadata": {},
   "outputs": [
    {
     "data": {
      "text/plain": [
       "country\n",
       "Mexico         4.01\n",
       "Oregon         4.02\n",
       "California     4.04\n",
       "               4.10\n",
       "Afghanistan    4.10\n",
       "Alaska         4.10\n",
       "Albania        4.10\n",
       "Algeria        4.10\n",
       "Angola         4.10\n",
       "Antarctica     4.10\n",
       "Name: mag, dtype: float64"
      ]
     },
     "execution_count": 57,
     "metadata": {},
     "output_type": "execute_result"
    }
   ],
   "source": [
    "gb.mag.min().nsmallest(10)"
   ]
  },
  {
   "cell_type": "code",
   "execution_count": 55,
   "metadata": {},
   "outputs": [
    {
     "data": {
      "text/plain": [
       "country\n",
       "South Napa Earthquake          6.020000\n",
       "Bouvet Island region           5.750000\n",
       "South Georgia Island region    5.450000\n",
       "Barbados                       5.400000\n",
       "New Mexico                     5.300000\n",
       "Easter Island region           5.162500\n",
       "Malawi                         5.100000\n",
       "Drake Passage                  5.033333\n",
       "North Korea                    5.000000\n",
       "Saint Lucia                    5.000000\n",
       "Name: mag, dtype: float64"
      ]
     },
     "execution_count": 55,
     "metadata": {},
     "output_type": "execute_result"
    }
   ],
   "source": [
    "gb.mag.mean().nlargest(10)"
   ]
  },
  {
   "cell_type": "code",
   "execution_count": 56,
   "metadata": {},
   "outputs": [
    {
     "data": {
      "text/plain": [
       "country\n",
       "Barbados                              1.555635\n",
       "Bouvet Island region                  1.484924\n",
       "Puerto Rico                           0.957601\n",
       "Off the coast of Ecuador              0.848528\n",
       "Palau region                          0.777817\n",
       "East of the South Sandwich Islands    0.606495\n",
       "Southern East Pacific Rise            0.604508\n",
       "South Indian Ocean                    0.602194\n",
       "Prince Edward Islands region          0.595259\n",
       "Panama                                0.591322\n",
       "Name: mag, dtype: float64"
      ]
     },
     "execution_count": 56,
     "metadata": {},
     "output_type": "execute_result"
    }
   ],
   "source": [
    "gb.mag.std().nlargest(10)"
   ]
  },
  {
   "cell_type": "markdown",
   "metadata": {},
   "source": [
    "We can also apply multiple functions at once:"
   ]
  },
  {
   "cell_type": "code",
   "execution_count": 59,
   "metadata": {},
   "outputs": [
    {
     "data": {
      "text/html": [
       "<div>\n",
       "<style scoped>\n",
       "    .dataframe tbody tr th:only-of-type {\n",
       "        vertical-align: middle;\n",
       "    }\n",
       "\n",
       "    .dataframe tbody tr th {\n",
       "        vertical-align: top;\n",
       "    }\n",
       "\n",
       "    .dataframe thead th {\n",
       "        text-align: right;\n",
       "    }\n",
       "</style>\n",
       "<table border=\"1\" class=\"dataframe\">\n",
       "  <thead>\n",
       "    <tr style=\"text-align: right;\">\n",
       "      <th></th>\n",
       "      <th>amin</th>\n",
       "      <th>amax</th>\n",
       "      <th>mean</th>\n",
       "    </tr>\n",
       "    <tr>\n",
       "      <th>country</th>\n",
       "      <th></th>\n",
       "      <th></th>\n",
       "      <th></th>\n",
       "    </tr>\n",
       "  </thead>\n",
       "  <tbody>\n",
       "    <tr>\n",
       "      <th></th>\n",
       "      <td>4.1</td>\n",
       "      <td>6.9</td>\n",
       "      <td>4.582544</td>\n",
       "    </tr>\n",
       "    <tr>\n",
       "      <th>Afghanistan</th>\n",
       "      <td>4.1</td>\n",
       "      <td>5.6</td>\n",
       "      <td>4.410656</td>\n",
       "    </tr>\n",
       "    <tr>\n",
       "      <th>Alaska</th>\n",
       "      <td>4.1</td>\n",
       "      <td>7.9</td>\n",
       "      <td>4.515025</td>\n",
       "    </tr>\n",
       "    <tr>\n",
       "      <th>Albania</th>\n",
       "      <td>4.1</td>\n",
       "      <td>5.0</td>\n",
       "      <td>4.391667</td>\n",
       "    </tr>\n",
       "    <tr>\n",
       "      <th>Algeria</th>\n",
       "      <td>4.1</td>\n",
       "      <td>5.5</td>\n",
       "      <td>4.583333</td>\n",
       "    </tr>\n",
       "  </tbody>\n",
       "</table>\n",
       "</div>"
      ],
      "text/plain": [
       "             amin  amax      mean\n",
       "country                          \n",
       "              4.1   6.9  4.582544\n",
       "Afghanistan   4.1   5.6  4.410656\n",
       "Alaska        4.1   7.9  4.515025\n",
       "Albania       4.1   5.0  4.391667\n",
       "Algeria       4.1   5.5  4.583333"
      ]
     },
     "execution_count": 59,
     "metadata": {},
     "output_type": "execute_result"
    }
   ],
   "source": [
    "gb.mag.aggregate([np.min, np.max, np.mean]).head()"
   ]
  },
  {
   "cell_type": "code",
   "execution_count": 60,
   "metadata": {},
   "outputs": [
    {
     "data": {
      "text/plain": [
       "<matplotlib.axes._subplots.AxesSubplot at 0x7f2e669d6d68>"
      ]
     },
     "execution_count": 60,
     "metadata": {},
     "output_type": "execute_result"
    },
    {
     "data": {
      "image/png": "[encoded data removed]",
      "text/plain": [
       "<Figure size 432x288 with 1 Axes>"
      ]
     },
     "metadata": {},
     "output_type": "display_data"
    }
   ],
   "source": [
    "gb.mag.aggregate([np.min, np.max, np.mean]).nlargest(10, 'mean').plot(kind='bar')"
   ]
  },
  {
   "cell_type": "code",
   "execution_count": null,
   "metadata": {},
   "outputs": [],
   "source": []
  }
 ],
 "metadata": {
  "kernelspec": {
   "display_name": "Python [default]",
   "language": "python",
   "name": "python3"
  },
  "language_info": {
   "codemirror_mode": {
    "name": "ipython",
    "version": 3
   },
   "file_extension": ".py",
   "mimetype": "text/x-python",
   "name": "python",
   "nbconvert_exporter": "python",
   "pygments_lexer": "ipython3",
   "version": "3.6.3"
  }
 },
 "nbformat": 4,
 "nbformat_minor": 2
}
